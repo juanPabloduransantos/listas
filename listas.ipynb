{
  "nbformat": 4,
  "nbformat_minor": 0,
  "metadata": {
    "colab": {
      "provenance": [],
      "authorship_tag": "ABX9TyNy/opPWpctSHE1Wja1KEhH",
      "include_colab_link": true
    },
    "kernelspec": {
      "name": "python3",
      "display_name": "Python 3"
    },
    "language_info": {
      "name": "python"
    }
  },
  "cells": [
    {
      "cell_type": "markdown",
      "metadata": {
        "id": "view-in-github",
        "colab_type": "text"
      },
      "source": [
        "<a href=\"https://colab.research.google.com/github/juanPabloduransantos/listas/blob/main/listas.ipynb\" target=\"_parent\"><img src=\"https://colab.research.google.com/assets/colab-badge.svg\" alt=\"Open In Colab\"/></a>"
      ]
    },
    {
      "cell_type": "markdown",
      "source": [
        "# listas\n",
        "\n",
        "- una lista hace referencia a una coleccion de datos que pueden ser numeros, cadenas o algun otro tipo\n",
        "\n",
        "- son coleccione sorednadas de datos lo que implica que importa el orden en el cual se encuentran susu elementos\n",
        "\n",
        "- el primer elemento ocupa la posicion 0 el segundo la uno y asi sustantivamente\n",
        "\n",
        "- son mutables: una vez creada la lista, esta puede modificarse. se le puede agregar o qitar elementos\n",
        "\n",
        "- en python estan representadas por el tipo ***list*** y para definirlas se utilizan las siguientes sintaxis:\n",
        "```nombre_lista =  [valor1, valor2,..., valorn]```\n",
        "\n",
        "- los elementos pueden ser de cualquier tipo incluso puede aver tipos diferentes en una misma lista\n",
        "\n",
        "- tambien es posible crear una lista con el constructor ```(list)```"
      ],
      "metadata": {
        "id": "pCw14FxICtlU"
      }
    },
    {
      "cell_type": "code",
      "execution_count": null,
      "metadata": {
        "colab": {
          "base_uri": "https://localhost:8080/"
        },
        "id": "yYW5jrU4Cb9X",
        "outputId": "22f4488f-7a4a-44f3-acb5-31d3366d9be2"
      },
      "outputs": [
        {
          "output_type": "stream",
          "name": "stdout",
          "text": [
            "['lunes', 'martes', 'miercoles', 'jueves', 'viernes']\n",
            "['rojo', 'amarillo', 'azul']\n",
            "[205.3, 107.18, 25, 450, 310.89, 170.23, 340]\n",
            "<class 'list'>\n",
            "[0, 2, 4, 6, 8, 10, 12, 14, 16, 18, 20, 22, 24, 26, 28]\n",
            "[29, 27, 25, 23, 21, 19, 17, 15, 13, 11, 9, 7, 5, 3, 1]\n"
          ]
        }
      ],
      "source": [
        "# ejemplo 1\n",
        "\n",
        "# ==============================================================\n",
        "# usando los [] y dando los valores para inicializar las listas\n",
        "# ==============================================================\n",
        "\n",
        "dias_laborales = ['lunes', 'martes', 'miercoles', 'jueves', 'viernes']\n",
        "print(dias_laborales)\n",
        "\n",
        "colores_primarios = ['rojo', 'amarillo', 'azul']\n",
        "print(colores_primarios)\n",
        "\n",
        "precios= [205.30, 107.18, 25, 450, 310.89, 170.23, 340]\n",
        "print(precios)\n",
        "print(type(precios))\n",
        "mezcolanza = (12, \"octubre\", 1492, True)\n",
        "lista_vacia = []\n",
        "\n",
        "# ==============================================================\n",
        "# usando el constructor list()\n",
        "# ==============================================================\n",
        "lista_vacia = list()\n",
        "lista_3 = list(range(0,30,2))\n",
        "print(lista_3)\n",
        "lista_4 =list(range(29,0,-2))\n",
        "print(lista_4)\n",
        "lista_5 = list(range(\"Nèstor jesus\"))\n",
        "print(lista_5)\n",
        "frase = \"Nèstor jesus paez sarmiento\"\n",
        "lista_6 = frase.split()\n",
        "print(lista_6)"
      ]
    },
    {
      "cell_type": "markdown",
      "source": [
        "## operaciones\n",
        "\n",
        "### operador +\n",
        "\n",
        "- concatenar o pegar los elementos de una lista al final de otra\n",
        "\n",
        "### operador *\n",
        "\n",
        "- repetir la secuencia de elementos de la lista tantas veces como lo indique el valor que acompaña el operador\n"
      ],
      "metadata": {
        "id": "UymT4ZxIQvvH"
      }
    },
    {
      "cell_type": "code",
      "source": [
        "dias_laborales = ['lunes', 'martes', 'miercoles', 'jueves', 'viernes']\n",
        "\n",
        "colores_primarios = ['rojo', 'amarillo', 'azul']\n",
        "\n",
        "precios= [205.30, 107.18, 25, 450, 310.89, 170.23, 340]\n",
        "\n",
        "# acceso a los elementos de una lista\n",
        "\n",
        "print(dias_laborales[0])\n",
        "print(dias_laborales[-1])\n",
        "print(dias_laborales[-5])\n",
        "\n",
        "# operador +\n",
        "\n",
        "fin_semana = [\"sabado\", \"domingo\"]\n",
        "semana = dias_laborales + fin_semana\n",
        "print(semana)\n",
        "\n",
        "# operador *\n",
        "colores_repetidos = colores_primarios * 3\n",
        "print(colores_repetidos)"
      ],
      "metadata": {
        "colab": {
          "base_uri": "https://localhost:8080/"
        },
        "id": "SW0WRaHiRnKk",
        "outputId": "f2c76665-d43e-4344-c8e5-b9f46ffa674f"
      },
      "execution_count": null,
      "outputs": [
        {
          "output_type": "stream",
          "name": "stdout",
          "text": [
            "lunes\n",
            "viernes\n",
            "lunes\n",
            "['lunes', 'martes', 'miercoles', 'jueves', 'viernes', 'sabado', 'domingo']\n",
            "['rojo', 'amarillo', 'azul', 'rojo', 'amarillo', 'azul', 'rojo', 'amarillo', 'azul']\n"
          ]
        }
      ]
    },
    {
      "cell_type": "markdown",
      "source": [
        "## funciones asociadas a las listas"
      ],
      "metadata": {
        "id": "e7Mw5fppUM2H"
      }
    },
    {
      "cell_type": "code",
      "source": [
        "dias_laborales = ['lunes', 'martes', 'miercoles', 'jueves', 'viernes']\n",
        "\n",
        "colores_primarios = ['rojo', 'amarillo', 'azul']\n",
        "\n",
        "precios= [205.30, 107.18, 25, 450, 310.89, 170.23, 340]\n",
        "\n",
        "impares = list(range(0,30,2))\n",
        "\n",
        "pares = list(range(29,0,-2))\n",
        "\n",
        "colores_repetidos = colores_primarios * 3\n",
        "\n",
        "# append(): agrega un elemento al final de a lista\n",
        "dias_laborales.append(\"sabado\")\n",
        "print(dias_laborales)\n",
        "\n",
        "# len(): total de elementos de la lista\n",
        "print(\"total de precios = \", len(precios))\n",
        "\n",
        "#count(): cuenta el numero de veces que aparece un eemento en la lista\n",
        "print(f\"el lunes aparece {dias_laborales.count('lunes')} vez(veces)\")\n",
        "\n",
        "# insert(): agrega en la posicion indicada el nuevo valor desplazando los demas elementos hacia la derecha. si el indise es mayor al tamaño de la lista lo agrega al final\n",
        "colores_primarios.insert(2, \"verde\")\n",
        "print(colores_primarios)\n",
        "\n",
        "# remove(): quita elemento de la lista. si el elemento no esta lanza una excepcion\n",
        "dias_laborales.remove(\"sabado\")\n",
        "print(dias_laborales)\n",
        "\n",
        "# sort(): ordena la lista de mayor a menor\n",
        "precios.sort()\n",
        "print(precios)\n",
        "precios.sort(reverse=True)\n",
        "print(precios)\n",
        "\n",
        "# reverse():\n",
        "\n",
        "#pop():\n",
        "\n",
        "#clear()\n",
        "\n",
        "# del\n"
      ],
      "metadata": {
        "colab": {
          "base_uri": "https://localhost:8080/"
        },
        "id": "dPt_nIhAUiHs",
        "outputId": "71ad32b1-fe06-4252-e5b2-64e774466827"
      },
      "execution_count": null,
      "outputs": [
        {
          "output_type": "stream",
          "name": "stdout",
          "text": [
            "['lunes', 'martes', 'miercoles', 'jueves', 'viernes', 'sabado']\n",
            "total de precios =  7\n",
            "el lunes aparece 1 vez(veces)\n",
            "['rojo', 'amarillo', 'verde', 'azul']\n",
            "['lunes', 'martes', 'miercoles', 'jueves', 'viernes']\n",
            "[25, 107.18, 170.23, 205.3, 310.89, 340, 450]\n",
            "[450, 340, 310.89, 205.3, 170.23, 107.18, 25]\n",
            "[28, 26, 24, 22, 20, 18, 16, 14, 12, 10, 8, 6, 4, 2, 0]\n"
          ]
        }
      ]
    },
    {
      "cell_type": "markdown",
      "source": [
        "## particion o division de listas (slicing o rebanadas)\n",
        "\n",
        "- se pueden generar sublistas de una lista por medio de la participacion (division) o slicing\n",
        "\n",
        "- para obtener una sublista se usa las sintaxis: ```sublista = lista [inicio:fin:n]```"
      ],
      "metadata": {
        "id": "QuT3JTfWgEB1"
      }
    },
    {
      "cell_type": "code",
      "source": [
        "# se crea una lista de numeros enteros\n",
        "lista_1 = [1,2,3,4,5,6]\n",
        "\n",
        "#sublista con los elementos de las posiciones 0 a la 2 inclusive\n",
        "sublista_1 = lista_1[0:3]\n",
        "print(sublista_1)\n",
        "\n",
        "# sublista con los elementos 0 a la 3 inclusive\n",
        "sublista_2 = lista_1[:4]\n",
        "print(sublista_2)\n",
        "\n",
        "# sublista con los elementos 3 a la 5 inclusive\n",
        "sublista_3 = lista_1[3:]\n",
        "print(sublista_3)\n",
        "\n",
        "# sublista con elementos desde el inicio hasta el final, con saltos de a 2\n",
        "sublista_4 = lista_1[::2]\n",
        "print(sublista_4)"
      ],
      "metadata": {
        "id": "6Ed_sHh7g6kr"
      },
      "execution_count": null,
      "outputs": []
    },
    {
      "cell_type": "markdown",
      "source": [
        "## listas por comprension\n",
        "\n",
        "- son listas creadas por la aplicasion de una operacion a cada uno de los miembros de una secuencia.\n",
        "\n",
        "- sintaxis: ```lista = [operacion for elemento in secuencia]```\n",
        "\n",
        "- la exprecion se escribe entre corchetes y esta formado por la operacion que quiere aplicarse a los elementos de la seci¡uencia deguida de la instruccion for, que permite la aliteracion sobre la frecuencia."
      ],
      "metadata": {
        "id": "pFSOSLMulIol"
      }
    },
    {
      "cell_type": "code",
      "source": [
        "# a partir de una cadena de caracteres\n",
        "\n",
        "frase = \"cynsita\"\n",
        "lista_mayusculas = [letra.upper() for letra in frase]\n",
        "print(lista_mayusculas)\n",
        "\n",
        "# a partir de una tupla\n",
        "tupla = (2,5,8,10)\n",
        "lista_cuadrados = [numero**2 for numero in tupla]\n",
        "print(lista_cuadrados)\n",
        "\n",
        "# a partir de una lista\n",
        "listas_pares = [2,3,6,8,10]\n",
        "listas_cubos_pares = [par**3 for par in listas_pares]\n",
        "print(listas_cubos_pares)"
      ],
      "metadata": {
        "colab": {
          "base_uri": "https://localhost:8080/"
        },
        "id": "0tqWDCmQl7hB",
        "outputId": "db686b70-042d-4079-8eb6-fb0d779c1d57"
      },
      "execution_count": null,
      "outputs": [
        {
          "output_type": "stream",
          "name": "stdout",
          "text": [
            "['C', 'Y', 'N', 'S', 'I', 'T', 'A']\n",
            "[4, 25, 64, 100]\n",
            "[8, 27, 216, 512, 1000]\n"
          ]
        }
      ]
    }
  ]
}